{
 "cells": [
  {
   "cell_type": "markdown",
   "metadata": {},
   "source": [
    "# Importing the libraries"
   ]
  },
  {
   "cell_type": "code",
   "execution_count": 9,
   "metadata": {},
   "outputs": [],
   "source": [
    "import pandas as pd\n",
    "import numpy as np\n",
    "import os"
   ]
  },
  {
   "cell_type": "markdown",
   "metadata": {},
   "source": [
    "# Cleaning the data"
   ]
  },
  {
   "cell_type": "code",
   "execution_count": null,
   "metadata": {},
   "outputs": [],
   "source": [
    "\n",
    "#Load the raw data from a specified file path.\n",
    "def load_data(file_path):\n",
    "    return pd.read_csv(file_path)   \n",
    "\n",
    "\n",
    "# Clean the data by handling missing values and duplicates.\n",
    "def clean_data(df):\n",
    "    # Remove duplicates\n",
    "    df = df.drop_duplicates()\n",
    "\n",
    "    # Fill missing numerical values with the mean\n",
    "    for column in df.select_dtypes(include=[np.number]).columns:\n",
    "        df[column].fillna(df[column].mean(), inplace=True)\n",
    "    \n",
    "    # Example: Fill missing categorical values with the mode\n",
    "    for column in df.select_dtypes(include=[object]).columns:\n",
    "        df[column].fillna(df[column].mode()[0], inplace=True)\n",
    "    \n",
    "    return df\n",
    "\n",
    "\n",
    "# Normalize numerical features\n",
    "def normalize_data(df):\n",
    "    for column in df.select_dtypes(include=[np.number]).columns:\n",
    "        df[column] = (df[column] - df[column].mean()) / df[column].std()\n",
    "    return df\n",
    "\n",
    "def transform_data(input_file_path, output_file_path):\n",
    "    # Load raw data\n",
    "    df = load_data(input_file_path)\n",
    "    \n",
    "    # Clean the data\n",
    "    df = clean_data(df)\n",
    "        \n",
    "    # Normalize numerical features\n",
    "    # df = normalize_data(df)\n",
    "    \n",
    "    # Save transformed data\n",
    "    df.to_csv(output_file_path, index=False)\n",
    "    print(f\"Transformed data saved to {output_file_path}\")\n",
    "\n",
    "def main():\n",
    "    raw_data_dir = '../../data/raw_data/'\n",
    "    processed_data_dir = '../../data/processed_data/'\n",
    "\n",
    "    # List of datasets to process\n",
    "    datasets = [\n",
    "        'employee_data.csv',\n",
    "        'course_data.csv',\n",
    "        'modules_data.csv',\n",
    "        'enrollment_data.csv',\n",
    "        'performance_metrics_data.csv',\n",
    "        'enrollment_with_modules_data.csv'\n",
    "    ]\n",
    "\n",
    "    for dataset in datasets:\n",
    "        input_file_path = os.path.join(raw_data_dir, dataset)\n",
    "        output_file_path = os.path.join(processed_data_dir, f'transformed_{dataset}')\n",
    "        transform_data(input_file_path, output_file_path)\n",
    "\n",
    "if __name__ == \"__main__\":\n",
    "    main()\n"
   ]
  }
 ],
 "metadata": {
  "kernelspec": {
   "display_name": "Python 3",
   "language": "python",
   "name": "python3"
  },
  "language_info": {
   "codemirror_mode": {
    "name": "ipython",
    "version": 3
   },
   "file_extension": ".py",
   "mimetype": "text/x-python",
   "name": "python",
   "nbconvert_exporter": "python",
   "pygments_lexer": "ipython3",
   "version": "3.12.5"
  }
 },
 "nbformat": 4,
 "nbformat_minor": 2
}
