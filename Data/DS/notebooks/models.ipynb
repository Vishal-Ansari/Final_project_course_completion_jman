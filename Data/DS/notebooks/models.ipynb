{
 "cells": [
  {
   "cell_type": "markdown",
   "metadata": {},
   "source": [
    "# Importing the Libraries"
   ]
  },
  {
   "cell_type": "code",
   "execution_count": 32,
   "metadata": {},
   "outputs": [],
   "source": [
    "import pandas as pd\n",
    "import numpy as np\n",
    "from scipy.sparse import csr_matrix\n",
    "from sklearn.neighbors import NearestNeighbors\n",
    "from sklearn.metrics import mean_squared_error"
   ]
  },
  {
   "cell_type": "code",
   "execution_count": 33,
   "metadata": {},
   "outputs": [
    {
     "data": {
      "text/html": [
       "<div>\n",
       "<style scoped>\n",
       "    .dataframe tbody tr th:only-of-type {\n",
       "        vertical-align: middle;\n",
       "    }\n",
       "\n",
       "    .dataframe tbody tr th {\n",
       "        vertical-align: top;\n",
       "    }\n",
       "\n",
       "    .dataframe thead th {\n",
       "        text-align: right;\n",
       "    }\n",
       "</style>\n",
       "<table border=\"1\" class=\"dataframe\">\n",
       "  <thead>\n",
       "    <tr style=\"text-align: right;\">\n",
       "      <th></th>\n",
       "      <th>employee_id</th>\n",
       "      <th>course_id_x</th>\n",
       "      <th>course_title</th>\n",
       "      <th>Normalized_Performance_Score</th>\n",
       "      <th>Min_Normalized_Performance_Score</th>\n",
       "      <th>Assigned_Courses</th>\n",
       "    </tr>\n",
       "  </thead>\n",
       "  <tbody>\n",
       "    <tr>\n",
       "      <th>0</th>\n",
       "      <td>EMP001</td>\n",
       "      <td>C15</td>\n",
       "      <td>C15 - Ethical Hacking Techniques</td>\n",
       "      <td>0.259614</td>\n",
       "      <td>0.007043</td>\n",
       "      <td>['C11 - iOS App Development with Swift']</td>\n",
       "    </tr>\n",
       "    <tr>\n",
       "      <th>1</th>\n",
       "      <td>EMP001</td>\n",
       "      <td>C07</td>\n",
       "      <td>C07 - Deep Learning with TensorFlow</td>\n",
       "      <td>0.423662</td>\n",
       "      <td>0.007043</td>\n",
       "      <td>['C11 - iOS App Development with Swift']</td>\n",
       "    </tr>\n",
       "    <tr>\n",
       "      <th>2</th>\n",
       "      <td>EMP001</td>\n",
       "      <td>C09</td>\n",
       "      <td>C09 - Cybersecurity Fundamentals</td>\n",
       "      <td>0.008539</td>\n",
       "      <td>0.007043</td>\n",
       "      <td>['C11 - iOS App Development with Swift']</td>\n",
       "    </tr>\n",
       "    <tr>\n",
       "      <th>3</th>\n",
       "      <td>EMP001</td>\n",
       "      <td>C01</td>\n",
       "      <td>C01 - User Research and Testing Methods</td>\n",
       "      <td>0.264857</td>\n",
       "      <td>0.007043</td>\n",
       "      <td>['C11 - iOS App Development with Swift']</td>\n",
       "    </tr>\n",
       "    <tr>\n",
       "      <th>4</th>\n",
       "      <td>EMP001</td>\n",
       "      <td>C12</td>\n",
       "      <td>C12 - Prototyping with Figma</td>\n",
       "      <td>0.206106</td>\n",
       "      <td>0.007043</td>\n",
       "      <td>['C11 - iOS App Development with Swift']</td>\n",
       "    </tr>\n",
       "  </tbody>\n",
       "</table>\n",
       "</div>"
      ],
      "text/plain": [
       "  employee_id course_id_x                             course_title  \\\n",
       "0      EMP001         C15         C15 - Ethical Hacking Techniques   \n",
       "1      EMP001         C07      C07 - Deep Learning with TensorFlow   \n",
       "2      EMP001         C09         C09 - Cybersecurity Fundamentals   \n",
       "3      EMP001         C01  C01 - User Research and Testing Methods   \n",
       "4      EMP001         C12             C12 - Prototyping with Figma   \n",
       "\n",
       "   Normalized_Performance_Score  Min_Normalized_Performance_Score  \\\n",
       "0                      0.259614                          0.007043   \n",
       "1                      0.423662                          0.007043   \n",
       "2                      0.008539                          0.007043   \n",
       "3                      0.264857                          0.007043   \n",
       "4                      0.206106                          0.007043   \n",
       "\n",
       "                           Assigned_Courses  \n",
       "0  ['C11 - iOS App Development with Swift']  \n",
       "1  ['C11 - iOS App Development with Swift']  \n",
       "2  ['C11 - iOS App Development with Swift']  \n",
       "3  ['C11 - iOS App Development with Swift']  \n",
       "4  ['C11 - iOS App Development with Swift']  "
      ]
     },
     "execution_count": 33,
     "metadata": {},
     "output_type": "execute_result"
    }
   ],
   "source": [
    "df_final= pd.read_csv('../data/output/df_final_reduced.csv')\n",
    "df_final.head()"
   ]
  },
  {
   "cell_type": "code",
   "execution_count": 34,
   "metadata": {},
   "outputs": [
    {
     "data": {
      "text/plain": [
       "Index(['employee_id', 'course_id_x', 'course_title',\n",
       "       'Normalized_Performance_Score', 'Min_Normalized_Performance_Score',\n",
       "       'Assigned_Courses'],\n",
       "      dtype='object')"
      ]
     },
     "execution_count": 34,
     "metadata": {},
     "output_type": "execute_result"
    }
   ],
   "source": [
    "df_final.columns"
   ]
  },
  {
   "cell_type": "markdown",
   "metadata": {},
   "source": [
    "# Model Development and recommendation "
   ]
  },
  {
   "cell_type": "code",
   "execution_count": 37,
   "metadata": {},
   "outputs": [
    {
     "name": "stdout",
     "output_type": "stream",
     "text": [
      "Query employee ID: EMP154\n",
      "\n",
      "Nearest Employees for Employee ID EMP154:\n",
      "\n",
      "Self Match (Distance = 0):\n",
      "Employee ID EMP043, with distance of 0.1232\n",
      "Employee ID EMP063, with distance of 0.2026\n",
      "Employee ID EMP122, with distance of 0.2134\n",
      "Employee ID EMP171, with distance of 0.2260\n",
      "Employee ID EMP144, with distance of 0.2354\n",
      "\n",
      "Recommended Courses for Employee ID EMP154 (not previously taken):\n",
      "\n",
      "C08 - Automation Testing with Selenium\n",
      "C06 - Continuous Integration and Continuous Deployment (CI/CD)\n",
      "C13 - Data Pipeline Development\n",
      "\n",
      "RMSE: 0.1776\n"
     ]
    }
   ],
   "source": [
    "\n",
    "\n",
    "# Assuming df_final is already defined\n",
    "# Create a pivot table: employee_id as rows, course_title as columns, and performance score as values\n",
    "df_pivot = df_final.pivot(index='employee_id', columns='course_title', values='Normalized_Performance_Score').fillna(0)\n",
    "\n",
    "# Convert the pivot table to a sparse matrix\n",
    "df_matrix = csr_matrix(df_pivot.values)\n",
    "\n",
    "# Fit the NearestNeighbors model\n",
    "model_knn = NearestNeighbors(metric='cosine', algorithm='brute')\n",
    "model_knn.fit(df_matrix)\n",
    "\n",
    "# Randomly choose an employee for recommendations\n",
    "query_index = np.random.choice(df_pivot.shape[0])\n",
    "query_employee_id = df_pivot.index[query_index]\n",
    "print(\"Query employee ID:\", query_employee_id)\n",
    "\n",
    "# Get recommendations\n",
    "distances, indices = model_knn.kneighbors(df_pivot.iloc[query_index, :].values.reshape(1, -1), n_neighbors=6)\n",
    "\n",
    "# Display nearest employees\n",
    "print(f'\\nNearest Employees for Employee ID {query_employee_id}:\\n')\n",
    "recommended_ids = []\n",
    "for i in range(len(distances.flatten())):\n",
    "    if i == 0:\n",
    "        print('Self Match (Distance = 0):')\n",
    "    else:\n",
    "        recommended_id = df_pivot.index[indices.flatten()[i]]\n",
    "        recommended_ids.append(recommended_id)\n",
    "        print(f'Employee ID {recommended_id}, with distance of {distances.flatten()[i]:.4f}')\n",
    "\n",
    "# Gather courses from nearest employees\n",
    "all_courses = set()\n",
    "employee_courses = set(df_final[df_final['employee_id'] == query_employee_id]['course_title'])\n",
    "\n",
    "for emp_id in recommended_ids:\n",
    "    courses_taken = df_final[df_final['employee_id'] == emp_id]['course_title'].unique()\n",
    "    all_courses.update(courses_taken)\n",
    "\n",
    "# Determine courses to recommend\n",
    "unique_courses = all_courses.difference(employee_courses)\n",
    "\n",
    "if unique_courses:\n",
    "    print(f'\\nRecommended Courses for Employee ID {query_employee_id} (not previously taken):\\n')\n",
    "    for course in unique_courses:\n",
    "        print(course)\n",
    "else:\n",
    "    # If no unique courses, suggest any course from the nearest employees\n",
    "    print(f'\\nAll courses have been taken by Employee ID {query_employee_id}. Suggesting courses from nearest employees:\\n')\n",
    "    suggested_courses = list(all_courses)\n",
    "    for course in suggested_courses:\n",
    "        print(course)\n",
    "\n",
    "# Optionally calculate RMSE (if needed)\n",
    "def calculate_rmse(recommended_ids, actual_scores):\n",
    "    relevant_scores = df_final[df_final['employee_id'].isin(recommended_ids)]\n",
    "    \n",
    "    if relevant_scores.empty:\n",
    "        return float('nan')  # Return NaN if no relevant scores are found\n",
    "    \n",
    "    y_true = relevant_scores['Normalized_Performance_Score']\n",
    "    y_pred = relevant_scores['Normalized_Performance_Score'].mean()  # Using the mean as a simple prediction\n",
    "\n",
    "    rmse = np.sqrt(mean_squared_error(y_true, [y_pred] * len(y_true)))\n",
    "    return rmse\n",
    "\n",
    "# Calculate RMSE (if desired)\n",
    "rmse_value = calculate_rmse(recommended_ids, df_final)\n",
    "print(f'\\nRMSE: {rmse_value:.4f}')\n",
    "    "
   ]
  }
 ],
 "metadata": {
  "kernelspec": {
   "display_name": "Python 3",
   "language": "python",
   "name": "python3"
  },
  "language_info": {
   "codemirror_mode": {
    "name": "ipython",
    "version": 3
   },
   "file_extension": ".py",
   "mimetype": "text/x-python",
   "name": "python",
   "nbconvert_exporter": "python",
   "pygments_lexer": "ipython3",
   "version": "3.12.2"
  }
 },
 "nbformat": 4,
 "nbformat_minor": 2
}
